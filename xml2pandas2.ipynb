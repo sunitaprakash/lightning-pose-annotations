{
 "cells": [
  {
   "cell_type": "code",
   "execution_count": 35,
   "id": "f40b0f12",
   "metadata": {},
   "outputs": [],
   "source": [
    "import pandas as pd\n",
    "import xml.etree.ElementTree as et"
   ]
  },
  {
   "cell_type": "code",
   "execution_count": 37,
   "id": "c669596f",
   "metadata": {},
   "outputs": [],
   "source": [
    "# https://www.edureka.co/blog/python-xml-parser-tutorial/#:~:text=Python%20allows%20parsing%20these%20XML,of%20that%20particular%20XML%20file"
   ]
  },
  {
   "cell_type": "code",
   "execution_count": 2,
   "id": "de55a5ad",
   "metadata": {},
   "outputs": [],
   "source": [
    "xtree = et.parse(\"annotations.xml\")\n",
    "xroot = xtree.getroot()"
   ]
  },
  {
   "cell_type": "code",
   "execution_count": 3,
   "id": "157580ac",
   "metadata": {},
   "outputs": [],
   "source": [
    "df_cols = [\"image id\"]\n",
    "rows = []"
   ]
  },
  {
   "cell_type": "code",
   "execution_count": 11,
   "id": "3c2dc2b6",
   "metadata": {},
   "outputs": [],
   "source": [
    "for node in xroot:\n",
    "    s_image = node.attrib.get(\"image id\")\n",
    "    s_name = node.find(\"name\")\n",
    "    rows.append({\"image\": s_image})"
   ]
  },
  {
   "cell_type": "code",
   "execution_count": 13,
   "id": "4ec6af1f",
   "metadata": {},
   "outputs": [],
   "source": [
    "out_df = pd.DataFrame(rows, columns = df_cols)"
   ]
  },
  {
   "cell_type": "code",
   "execution_count": 14,
   "id": "d96bd916",
   "metadata": {},
   "outputs": [
    {
     "name": "stdout",
     "output_type": "stream",
     "text": [
      "    image id\n",
      "0        NaN\n",
      "1        NaN\n",
      "2        NaN\n",
      "3        NaN\n",
      "4        NaN\n",
      "5        NaN\n",
      "6        NaN\n",
      "7        NaN\n",
      "8        NaN\n",
      "9        NaN\n",
      "10       NaN\n",
      "11       NaN\n",
      "12       NaN\n",
      "13       NaN\n",
      "14       NaN\n",
      "15       NaN\n"
     ]
    }
   ],
   "source": [
    "print(out_df)"
   ]
  },
  {
   "cell_type": "code",
   "execution_count": 28,
   "id": "16771d22",
   "metadata": {},
   "outputs": [],
   "source": [
    "mytree = et.parse('annotations.xml')"
   ]
  },
  {
   "cell_type": "code",
   "execution_count": 18,
   "id": "ecd1b1cd",
   "metadata": {},
   "outputs": [
    {
     "name": "stdout",
     "output_type": "stream",
     "text": [
      "<Element 'annotations' at 0x7f5a2587d9f0>\n"
     ]
    }
   ],
   "source": [
    "myroot = mytree.getroot()\n",
    "print(myroot)"
   ]
  },
  {
   "cell_type": "code",
   "execution_count": 19,
   "id": "5a3cb2f4",
   "metadata": {},
   "outputs": [
    {
     "name": "stdout",
     "output_type": "stream",
     "text": [
      "annotations\n"
     ]
    }
   ],
   "source": [
    "print(myroot.tag)"
   ]
  },
  {
   "cell_type": "code",
   "execution_count": 20,
   "id": "94206904",
   "metadata": {},
   "outputs": [
    {
     "name": "stdout",
     "output_type": "stream",
     "text": [
      "{}\n"
     ]
    }
   ],
   "source": [
    "print(myroot.attrib)"
   ]
  },
  {
   "cell_type": "code",
   "execution_count": 21,
   "id": "b6e200a4",
   "metadata": {},
   "outputs": [
    {
     "name": "stdout",
     "output_type": "stream",
     "text": [
      "version\n"
     ]
    }
   ],
   "source": [
    "print(myroot[0].tag)"
   ]
  },
  {
   "cell_type": "code",
   "execution_count": 32,
   "id": "d42646d9",
   "metadata": {},
   "outputs": [
    {
     "ename": "AttributeError",
     "evalue": "'NoneType' object has no attribute 'text'",
     "output_type": "error",
     "traceback": [
      "\u001b[0;31m---------------------------------------------------------------------------\u001b[0m",
      "\u001b[0;31mAttributeError\u001b[0m                            Traceback (most recent call last)",
      "Input \u001b[0;32mIn [32]\u001b[0m, in \u001b[0;36m<cell line: 1>\u001b[0;34m()\u001b[0m\n\u001b[1;32m      1\u001b[0m \u001b[38;5;28;01mfor\u001b[39;00m x \u001b[38;5;129;01min\u001b[39;00m myroot\u001b[38;5;241m.\u001b[39mfindall(\u001b[38;5;124m'\u001b[39m\u001b[38;5;124mimage\u001b[39m\u001b[38;5;124m'\u001b[39m):\n\u001b[0;32m----> 2\u001b[0m      label \u001b[38;5;241m=\u001b[39m\u001b[43mx\u001b[49m\u001b[38;5;241;43m.\u001b[39;49m\u001b[43mfind\u001b[49m\u001b[43m(\u001b[49m\u001b[38;5;124;43m'\u001b[39;49m\u001b[38;5;124;43mlables\u001b[39;49m\u001b[38;5;124;43m'\u001b[39;49m\u001b[43m)\u001b[49m\u001b[38;5;241;43m.\u001b[39;49m\u001b[43mtext\u001b[49m\n\u001b[1;32m      3\u001b[0m      points \u001b[38;5;241m=\u001b[39m x\u001b[38;5;241m.\u001b[39mfind(\u001b[38;5;124m'\u001b[39m\u001b[38;5;124mpoints\u001b[39m\u001b[38;5;124m'\u001b[39m)\u001b[38;5;241m.\u001b[39mtext\n\u001b[1;32m      4\u001b[0m      \u001b[38;5;28mprint\u001b[39m(label,point)\n",
      "\u001b[0;31mAttributeError\u001b[0m: 'NoneType' object has no attribute 'text'"
     ]
    }
   ],
   "source": [
    "for x in myroot.findall('image'):\n",
    "     label =x.find('lables').text\n",
    "     points = x.find('points').text\n",
    "     print(label,point)"
   ]
  },
  {
   "cell_type": "code",
   "execution_count": 31,
   "id": "256be5c9",
   "metadata": {},
   "outputs": [],
   "source": [
    "for x in myroot[0]:\n",
    "    print(x.text)"
   ]
  },
  {
   "cell_type": "code",
   "execution_count": 90,
   "id": "9b9f2603",
   "metadata": {},
   "outputs": [
    {
     "name": "stdout",
     "output_type": "stream",
     "text": [
      "<xml.dom.minidom.Document object at 0x7f5a240eb1c0>\n"
     ]
    }
   ],
   "source": [
    "# start od minidom\n",
    "from xml.dom import minidom\n",
    "p1 = minidom.parse(\"annotations.xml\")\n",
    "print(p1)"
   ]
  },
  {
   "cell_type": "code",
   "execution_count": 43,
   "id": "8f4be8a2",
   "metadata": {},
   "outputs": [
    {
     "name": "stdout",
     "output_type": "stream",
     "text": [
      "img1.png\n"
     ]
    }
   ],
   "source": [
    "tagname= p1.getElementsByTagName('image')\n",
    "print(tagname[0].attributes['name'].value)\n"
   ]
  },
  {
   "cell_type": "code",
   "execution_count": 44,
   "id": "7c930f51",
   "metadata": {},
   "outputs": [
    {
     "name": "stdout",
     "output_type": "stream",
     "text": [
      "\n",
      "    \n"
     ]
    }
   ],
   "source": [
    "print(tagname[1].firstChild.data)"
   ]
  },
  {
   "cell_type": "code",
   "execution_count": 48,
   "id": "90223bc7",
   "metadata": {},
   "outputs": [
    {
     "name": "stdout",
     "output_type": "stream",
     "text": [
      "tail\n",
      "53.44,330.78\n"
     ]
    }
   ],
   "source": [
    "tagname= p1.getElementsByTagName('points')\n",
    "print(tagname[0].attributes['label'].value)\n",
    "print(tagname[0].attributes['points'].value)"
   ]
  },
  {
   "cell_type": "code",
   "execution_count": 49,
   "id": "d6b86b37",
   "metadata": {},
   "outputs": [
    {
     "name": "stdout",
     "output_type": "stream",
     "text": [
      "img2.png\n",
      "Nose\n",
      "394.90,19.30\n"
     ]
    }
   ],
   "source": [
    "tagname= p1.getElementsByTagName('image')\n",
    "print(tagname[1].attributes['name'].value)\n",
    "tagname= p1.getElementsByTagName('points')\n",
    "print(tagname[1].attributes['label'].value)\n",
    "print(tagname[1].attributes['points'].value)"
   ]
  },
  {
   "cell_type": "code",
   "execution_count": 50,
   "id": "26f9a7da",
   "metadata": {},
   "outputs": [
    {
     "name": "stdout",
     "output_type": "stream",
     "text": [
      "img3.png\n",
      "Left Front paw\n",
      "202.49,299.76\n"
     ]
    }
   ],
   "source": [
    "tagname= p1.getElementsByTagName('image')\n",
    "print(tagname[2].attributes['name'].value)\n",
    "tagname= p1.getElementsByTagName('points')\n",
    "print(tagname[2].attributes['label'].value)\n",
    "print(tagname[2].attributes['points'].value)"
   ]
  },
  {
   "cell_type": "code",
   "execution_count": 53,
   "id": "3dc36cdc",
   "metadata": {},
   "outputs": [
    {
     "ename": "SyntaxError",
     "evalue": "invalid syntax (1410741344.py, line 1)",
     "output_type": "error",
     "traceback": [
      "\u001b[0;36m  Input \u001b[0;32mIn [53]\u001b[0;36m\u001b[0m\n\u001b[0;31m    for x in\u001b[0m\n\u001b[0m             ^\u001b[0m\n\u001b[0;31mSyntaxError\u001b[0m\u001b[0;31m:\u001b[0m invalid syntax\n"
     ]
    }
   ],
   "source": [
    "for x in "
   ]
  },
  {
   "cell_type": "code",
   "execution_count": 91,
   "id": "dbd89f3f",
   "metadata": {},
   "outputs": [
    {
     "ename": "KeyError",
     "evalue": "'name'",
     "output_type": "error",
     "traceback": [
      "\u001b[0;31m---------------------------------------------------------------------------\u001b[0m",
      "\u001b[0;31mKeyError\u001b[0m                                  Traceback (most recent call last)",
      "Input \u001b[0;32mIn [91]\u001b[0m, in \u001b[0;36m<cell line: 2>\u001b[0;34m()\u001b[0m\n\u001b[1;32m      1\u001b[0m p1\u001b[38;5;241m.\u001b[39mgetElementsByTagName(\u001b[38;5;124m'\u001b[39m\u001b[38;5;124mimage\u001b[39m\u001b[38;5;124m'\u001b[39m)\n\u001b[0;32m----> 2\u001b[0m y \u001b[38;5;241m=\u001b[39m \u001b[38;5;28mprint\u001b[39m(\u001b[43mtagname\u001b[49m\u001b[43m[\u001b[49m\u001b[38;5;241;43m0\u001b[39;49m\u001b[43m]\u001b[49m\u001b[38;5;241;43m.\u001b[39;49m\u001b[43mattributes\u001b[49m\u001b[43m[\u001b[49m\u001b[38;5;124;43m'\u001b[39;49m\u001b[38;5;124;43mname\u001b[39;49m\u001b[38;5;124;43m'\u001b[39;49m\u001b[43m]\u001b[49m\u001b[38;5;241m.\u001b[39mvalue)\n\u001b[1;32m      3\u001b[0m \u001b[38;5;28mprint\u001b[39m(y)\n\u001b[1;32m      4\u001b[0m tagname\u001b[38;5;241m=\u001b[39m p1\u001b[38;5;241m.\u001b[39mgetElementsByTagName(\u001b[38;5;124m'\u001b[39m\u001b[38;5;124mpoints\u001b[39m\u001b[38;5;124m'\u001b[39m)\n",
      "File \u001b[0;32m~/conda/lib/python3.8/xml/dom/minidom.py:552\u001b[0m, in \u001b[0;36mNamedNodeMap.__getitem__\u001b[0;34m(self, attname_or_tuple)\u001b[0m\n\u001b[1;32m    550\u001b[0m     \u001b[38;5;28;01mreturn\u001b[39;00m \u001b[38;5;28mself\u001b[39m\u001b[38;5;241m.\u001b[39m_attrsNS[attname_or_tuple]\n\u001b[1;32m    551\u001b[0m \u001b[38;5;28;01melse\u001b[39;00m:\n\u001b[0;32m--> 552\u001b[0m     \u001b[38;5;28;01mreturn\u001b[39;00m \u001b[38;5;28;43mself\u001b[39;49m\u001b[38;5;241;43m.\u001b[39;49m\u001b[43m_attrs\u001b[49m\u001b[43m[\u001b[49m\u001b[43mattname_or_tuple\u001b[49m\u001b[43m]\u001b[49m\n",
      "\u001b[0;31mKeyError\u001b[0m: 'name'"
     ]
    }
   ],
   "source": [
    "p1.getElementsByTagName('image')\n",
    "y = print(tagname[0].attributes['name'].value)\n",
    "print(y)\n",
    "tagname= p1.getElementsByTagName('points')\n",
    "z = print(tagname[0].attributes['label'].value)\n",
    "print(tagname[2].attributes['points'].value)\n",
    "print (z)"
   ]
  },
  {
   "cell_type": "code",
   "execution_count": 104,
   "id": "36a8c562",
   "metadata": {},
   "outputs": [
    {
     "name": "stdout",
     "output_type": "stream",
     "text": [
      "img1.png\n"
     ]
    },
    {
     "ename": "AttributeError",
     "evalue": "'Attr' object has no attribute 'data'",
     "output_type": "error",
     "traceback": [
      "\u001b[0;31m---------------------------------------------------------------------------\u001b[0m",
      "\u001b[0;31mAttributeError\u001b[0m                            Traceback (most recent call last)",
      "Input \u001b[0;32mIn [104]\u001b[0m, in \u001b[0;36m<cell line: 3>\u001b[0;34m()\u001b[0m\n\u001b[1;32m      1\u001b[0m tagname\u001b[38;5;241m=\u001b[39m p1\u001b[38;5;241m.\u001b[39mgetElementsByTagName(\u001b[38;5;124m'\u001b[39m\u001b[38;5;124mimage\u001b[39m\u001b[38;5;124m'\u001b[39m)\n\u001b[1;32m      2\u001b[0m \u001b[38;5;28mprint\u001b[39m(tagname[\u001b[38;5;241m0\u001b[39m]\u001b[38;5;241m.\u001b[39mattributes[\u001b[38;5;124m'\u001b[39m\u001b[38;5;124mname\u001b[39m\u001b[38;5;124m'\u001b[39m]\u001b[38;5;241m.\u001b[39mvalue)\n\u001b[0;32m----> 3\u001b[0m \u001b[38;5;28mprint\u001b[39m(\u001b[43mtagname\u001b[49m\u001b[43m[\u001b[49m\u001b[38;5;241;43m0\u001b[39;49m\u001b[43m]\u001b[49m\u001b[38;5;241;43m.\u001b[39;49m\u001b[43mattributes\u001b[49m\u001b[43m[\u001b[49m\u001b[38;5;124;43m'\u001b[39;49m\u001b[38;5;124;43mname\u001b[39;49m\u001b[38;5;124;43m'\u001b[39;49m\u001b[43m]\u001b[49m\u001b[38;5;241;43m.\u001b[39;49m\u001b[43mdata\u001b[49m)\n\u001b[1;32m      4\u001b[0m tagname\u001b[38;5;241m=\u001b[39m p1\u001b[38;5;241m.\u001b[39mgetElementsByTagName(\u001b[38;5;124m'\u001b[39m\u001b[38;5;124mpoints\u001b[39m\u001b[38;5;124m'\u001b[39m)\n\u001b[1;32m      5\u001b[0m \u001b[38;5;28mprint\u001b[39m(tagname[\u001b[38;5;241m0\u001b[39m]\u001b[38;5;241m.\u001b[39mattributes[\u001b[38;5;124m'\u001b[39m\u001b[38;5;124mlabel\u001b[39m\u001b[38;5;124m'\u001b[39m]\u001b[38;5;241m.\u001b[39mvalue)\n",
      "\u001b[0;31mAttributeError\u001b[0m: 'Attr' object has no attribute 'data'"
     ]
    }
   ],
   "source": [
    "\n",
    "    tagname= p1.getElementsByTagName('image')\n",
    "    print(tagname[0].attributes['name'].value)\n",
    "    tagname= p1.getElementsByTagName('points')\n",
    "    print(tagname[0].attributes['label'].value)\n",
    "    print(tagname[0].attributes['points'].value)\n"
   ]
  },
  {
   "cell_type": "code",
   "execution_count": null,
   "id": "7d00f129",
   "metadata": {},
   "outputs": [],
   "source": []
  },
  {
   "cell_type": "code",
   "execution_count": 98,
   "id": "702a696e",
   "metadata": {},
   "outputs": [
    {
     "ename": "SyntaxError",
     "evalue": "invalid syntax (996384017.py, line 3)",
     "output_type": "error",
     "traceback": [
      "\u001b[0;36m  Input \u001b[0;32mIn [98]\u001b[0;36m\u001b[0m\n\u001b[0;31m    data = {'images': [ 'tagname[0].attributes['name'].value'],\u001b[0m\n\u001b[0m                                                ^\u001b[0m\n\u001b[0;31mSyntaxError\u001b[0m\u001b[0;31m:\u001b[0m invalid syntax\n"
     ]
    }
   ],
   "source": [
    "import pandas as pd\n",
    "\n",
    "data = {'images': [ 'tagname[0].attributes['name'].value'],\n",
    "        'label Name': ['tagname[0].attributes['label'].value']\n",
    "        }\n",
    "\n",
    "df = pd.DataFrame(data)\n",
    "\n",
    "print (df)"
   ]
  },
  {
   "cell_type": "code",
   "execution_count": null,
   "id": "65a60173",
   "metadata": {},
   "outputs": [],
   "source": []
  },
  {
   "cell_type": "code",
   "execution_count": 127,
   "id": "3ed788a9",
   "metadata": {},
   "outputs": [
    {
     "name": "stdout",
     "output_type": "stream",
     "text": [
      "     images label Name   label point\n",
      "0  img6.png       Nose  392.88,21.33\n"
     ]
    }
   ],
   "source": [
    "tagname= p1.getElementsByTagName('image')\n",
    "for x in tagname:\n",
    "    for y in tagname1:\n",
    "        tagname= p1.getElementsByTagName('image')\n",
    "       #print(x.attributes['name'].value)\n",
    "        a=x.attributes['name'].value\n",
    "        tagname1= p1.getElementsByTagName('points')\n",
    "        #print(y.attributes['label'].value)\n",
    "        b=y.attributes['label'].value\n",
    "        #print(y.attributes['points'].value)\n",
    "        c=y.attributes['points'].value\n",
    "    \n",
    "    \n",
    "\n",
    "tagname1= p1.getElementsByTagName('points')\n",
    "for y in tagname1:\n",
    "        tagname1= p1.getElementsByTagName('points')\n",
    "        #print(y.attributes['label'].value)\n",
    "        b=y.attributes['label'].value\n",
    "        #print(y.attributes['points'].value)\n",
    "        c=y.attributes['points'].value\n",
    "        \n",
    "        \n",
    "\n",
    "data = {'images': [ a ],\n",
    "        'label Name': [b],\n",
    "        'label point': [c]\n",
    "        }\n",
    "df = pd.DataFrame(data)\n",
    "\n",
    "print(df)"
   ]
  },
  {
   "cell_type": "code",
   "execution_count": null,
   "id": "ff3f378b",
   "metadata": {},
   "outputs": [],
   "source": [
    "import pandas as pd\n",
    "\n",
    "data = {'images': [ 'tagname[0].attributes['name'].value'],\n",
    "        'label Name': ['tagname[0].attributes['label'].value']\n",
    "        }\n",
    "\n",
    "df = pd.DataFrame(data)\n",
    "\n",
    "print (df)"
   ]
  },
  {
   "cell_type": "code",
   "execution_count": 113,
   "id": "0306d885",
   "metadata": {},
   "outputs": [
    {
     "name": "stdout",
     "output_type": "stream",
     "text": [
      "  images label Name\n",
      "0      x          y\n"
     ]
    }
   ],
   "source": [
    "print(df)"
   ]
  },
  {
   "cell_type": "code",
   "execution_count": 142,
   "id": "dc7e20d1",
   "metadata": {},
   "outputs": [
    {
     "name": "stdout",
     "output_type": "stream",
     "text": [
      "img1.png    tail    53.44,330.78\n",
      "img1.png    Nose    394.90,19.30\n",
      "img1.png    Left Front paw    202.49,299.76\n",
      "img1.png    tail    29.05,312.49\n",
      "img1.png    Left Front paw    255.61,289.80\n",
      "img1.png    Nose    393.38,22.34\n",
      "img1.png    Left Front paw    275.53,291.70\n",
      "img1.png    Nose    393.89,20.82\n",
      "img1.png    tail    28.04,114.32\n",
      "img1.png    tail    35.66,7.61\n",
      "img1.png    Left Front paw    308.25,294.55\n",
      "img1.png    Nose    392.88,20.82\n",
      "img1.png    tail    36.17,7.10\n",
      "img1.png    Left Front paw    294.03,317.79\n",
      "img1.png    Nose    393.89,22.34\n",
      "img1.png    Left Front paw    321.74,307.92\n",
      "img1.png    tail    45.82,41.15\n",
      "img1.png    Nose    392.88,21.33\n",
      "img2.png    tail    53.44,330.78\n",
      "img2.png    Nose    394.90,19.30\n",
      "img2.png    Left Front paw    202.49,299.76\n",
      "img2.png    tail    29.05,312.49\n",
      "img2.png    Left Front paw    255.61,289.80\n",
      "img2.png    Nose    393.38,22.34\n",
      "img2.png    Left Front paw    275.53,291.70\n",
      "img2.png    Nose    393.89,20.82\n",
      "img2.png    tail    28.04,114.32\n",
      "img2.png    tail    35.66,7.61\n",
      "img2.png    Left Front paw    308.25,294.55\n",
      "img2.png    Nose    392.88,20.82\n",
      "img2.png    tail    36.17,7.10\n",
      "img2.png    Left Front paw    294.03,317.79\n",
      "img2.png    Nose    393.89,22.34\n",
      "img2.png    Left Front paw    321.74,307.92\n",
      "img2.png    tail    45.82,41.15\n",
      "img2.png    Nose    392.88,21.33\n",
      "img3.png    tail    53.44,330.78\n",
      "img3.png    Nose    394.90,19.30\n",
      "img3.png    Left Front paw    202.49,299.76\n",
      "img3.png    tail    29.05,312.49\n",
      "img3.png    Left Front paw    255.61,289.80\n",
      "img3.png    Nose    393.38,22.34\n",
      "img3.png    Left Front paw    275.53,291.70\n",
      "img3.png    Nose    393.89,20.82\n",
      "img3.png    tail    28.04,114.32\n",
      "img3.png    tail    35.66,7.61\n",
      "img3.png    Left Front paw    308.25,294.55\n",
      "img3.png    Nose    392.88,20.82\n",
      "img3.png    tail    36.17,7.10\n",
      "img3.png    Left Front paw    294.03,317.79\n",
      "img3.png    Nose    393.89,22.34\n",
      "img3.png    Left Front paw    321.74,307.92\n",
      "img3.png    tail    45.82,41.15\n",
      "img3.png    Nose    392.88,21.33\n",
      "img4.png    tail    53.44,330.78\n",
      "img4.png    Nose    394.90,19.30\n",
      "img4.png    Left Front paw    202.49,299.76\n",
      "img4.png    tail    29.05,312.49\n",
      "img4.png    Left Front paw    255.61,289.80\n",
      "img4.png    Nose    393.38,22.34\n",
      "img4.png    Left Front paw    275.53,291.70\n",
      "img4.png    Nose    393.89,20.82\n",
      "img4.png    tail    28.04,114.32\n",
      "img4.png    tail    35.66,7.61\n",
      "img4.png    Left Front paw    308.25,294.55\n",
      "img4.png    Nose    392.88,20.82\n",
      "img4.png    tail    36.17,7.10\n",
      "img4.png    Left Front paw    294.03,317.79\n",
      "img4.png    Nose    393.89,22.34\n",
      "img4.png    Left Front paw    321.74,307.92\n",
      "img4.png    tail    45.82,41.15\n",
      "img4.png    Nose    392.88,21.33\n",
      "img5.png    tail    53.44,330.78\n",
      "img5.png    Nose    394.90,19.30\n",
      "img5.png    Left Front paw    202.49,299.76\n",
      "img5.png    tail    29.05,312.49\n",
      "img5.png    Left Front paw    255.61,289.80\n",
      "img5.png    Nose    393.38,22.34\n",
      "img5.png    Left Front paw    275.53,291.70\n",
      "img5.png    Nose    393.89,20.82\n",
      "img5.png    tail    28.04,114.32\n",
      "img5.png    tail    35.66,7.61\n",
      "img5.png    Left Front paw    308.25,294.55\n",
      "img5.png    Nose    392.88,20.82\n",
      "img5.png    tail    36.17,7.10\n",
      "img5.png    Left Front paw    294.03,317.79\n",
      "img5.png    Nose    393.89,22.34\n",
      "img5.png    Left Front paw    321.74,307.92\n",
      "img5.png    tail    45.82,41.15\n",
      "img5.png    Nose    392.88,21.33\n",
      "img6.png    tail    53.44,330.78\n",
      "img6.png    Nose    394.90,19.30\n",
      "img6.png    Left Front paw    202.49,299.76\n",
      "img6.png    tail    29.05,312.49\n",
      "img6.png    Left Front paw    255.61,289.80\n",
      "img6.png    Nose    393.38,22.34\n",
      "img6.png    Left Front paw    275.53,291.70\n",
      "img6.png    Nose    393.89,20.82\n",
      "img6.png    tail    28.04,114.32\n",
      "img6.png    tail    35.66,7.61\n",
      "img6.png    Left Front paw    308.25,294.55\n",
      "img6.png    Nose    392.88,20.82\n",
      "img6.png    tail    36.17,7.10\n",
      "img6.png    Left Front paw    294.03,317.79\n",
      "img6.png    Nose    393.89,22.34\n",
      "img6.png    Left Front paw    321.74,307.92\n",
      "img6.png    tail    45.82,41.15\n",
      "img6.png    Nose    392.88,21.33\n",
      "         images        label Name      label point\n",
      "0      img6.png              Nose     392.88,21.33\n",
      "1    [img1.png]            [tail]   [53.44,330.78]\n",
      "2    [img1.png]            [Nose]   [394.90,19.30]\n",
      "3    [img1.png]  [Left Front paw]  [202.49,299.76]\n",
      "4    [img1.png]            [tail]   [29.05,312.49]\n",
      "..          ...               ...              ...\n",
      "104  [img6.png]  [Left Front paw]  [294.03,317.79]\n",
      "105  [img6.png]            [Nose]   [393.89,22.34]\n",
      "106  [img6.png]  [Left Front paw]  [321.74,307.92]\n",
      "107  [img6.png]            [tail]    [45.82,41.15]\n",
      "108  [img6.png]            [Nose]   [392.88,21.33]\n",
      "\n",
      "[109 rows x 3 columns]\n"
     ]
    }
   ],
   "source": [
    "df = pd.DataFrame(data)\n",
    "tagname= p1.getElementsByTagName('image')\n",
    "for x in tagname:\n",
    "    tagname= p1.getElementsByTagName('image')\n",
    "    #print(x.attributes['name'].value)\n",
    "    a=x.attributes['name'].value\n",
    "    for y in tagname1:\n",
    "        tagname1= p1.getElementsByTagName('points')\n",
    "        #print(y.attributes['label'].value)\n",
    "        b=y.attributes['label'].value\n",
    "        #print(y.attributes['points'].value)\n",
    "        c=y.attributes['points'].value\n",
    "        print(a, '  ' ,b,'  ',c)\n",
    "        data = {'images': [ a ],\n",
    "        'label Name': [b],\n",
    "        'label point': [c]\n",
    "        }\n",
    "        df = df.append(data, ignore_index = True)\n",
    "         \n",
    "\n",
    "\n",
    "print(df)"
   ]
  },
  {
   "cell_type": "code",
   "execution_count": 143,
   "id": "8c7c62f1",
   "metadata": {},
   "outputs": [],
   "source": [
    "df.to_csv('cvatannotation.csv', index=False)"
   ]
  },
  {
   "cell_type": "code",
   "execution_count": null,
   "id": "284ec53b",
   "metadata": {},
   "outputs": [],
   "source": []
  }
 ],
 "metadata": {
  "kernelspec": {
   "display_name": "Python 3 (ipykernel)",
   "language": "python",
   "name": "python3"
  },
  "language_info": {
   "codemirror_mode": {
    "name": "ipython",
    "version": 3
   },
   "file_extension": ".py",
   "mimetype": "text/x-python",
   "name": "python",
   "nbconvert_exporter": "python",
   "pygments_lexer": "ipython3",
   "version": "3.8.8"
  }
 },
 "nbformat": 4,
 "nbformat_minor": 5
}
